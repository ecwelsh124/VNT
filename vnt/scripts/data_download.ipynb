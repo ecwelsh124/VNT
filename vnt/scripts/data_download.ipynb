{
 "cells": [
  {
   "cell_type": "code",
   "execution_count": 2,
   "metadata": {},
   "outputs": [
    {
     "name": "stderr",
     "output_type": "stream",
     "text": [
      "/Users/evan/Documents/Algo Trading/vnt/.venv/lib/python3.12/site-packages/dash/dash.py:556: UserWarning:\n",
      "\n",
      "JupyterDash is deprecated, use Dash instead.\n",
      "See https://dash.plotly.com/dash-in-jupyter for more details.\n",
      "\n"
     ]
    }
   ],
   "source": [
    "from pickle import dump, load\n",
    "from datetime import datetime\n",
    "\n",
    "from quantfreedom.helpers.helper_funcs import dl_ex_candles\n",
    "\n",
    "%load_ext autoreload\n",
    "%autoreload 2"
   ]
  },
  {
   "cell_type": "code",
   "execution_count": 18,
   "metadata": {},
   "outputs": [],
   "source": [
    "# Get the path to this file\n",
    "import os\n",
    "file_path = os.path.abspath(os.path.dirname('vnt'))\n",
    "file_path\n",
    "\n",
    "# Create your pickle file path\n",
    "pkl_file_path = '/Users/evan/Documents/Algo Trading/vnt/data/5m_2023.pkl'\n",
    "\n",
    "candles = dl_ex_candles(\n",
    "    exchange='mufex',\n",
    "    symbol='BTCUSDT',\n",
    "    timeframe='5m',\n",
    "    since_datetime=datetime(2023, 1, 1),\n",
    "    until_datetime=datetime(2023, 12, 31),\n",
    ")"
   ]
  },
  {
   "cell_type": "code",
   "execution_count": 24,
   "metadata": {},
   "outputs": [],
   "source": [
    "with open(pkl_file_path, 'wb') as f:\n",
    "    dump(candles, f)"
   ]
  },
  {
   "cell_type": "code",
   "execution_count": 3,
   "metadata": {},
   "outputs": [],
   "source": [
    "pkl_file_path = '/Users/evan/Documents/Algo Trading/vnt/data/5m_2023.pkl'\n",
    "\n",
    "with open(pkl_file_path, 'rb') as f:\n",
    "    candles = load(f)"
   ]
  },
  {
   "cell_type": "code",
   "execution_count": 23,
   "metadata": {},
   "outputs": [
    {
     "name": "stdout",
     "output_type": "stream",
     "text": [
      "FootprintCandlesTuple(candle_open_datetimes=array(['2023-01-01T00:00:00.000', '2023-01-01T00:05:00.000',\n",
      "       '2023-01-01T00:10:00.000', ..., '2023-12-30T23:45:00.000',\n",
      "       '2023-12-30T23:50:00.000', '2023-12-30T23:55:00.000'],\n",
      "      dtype='datetime64[ms]'), candle_open_timestamps=array([1672531200000, 1672531500000, 1672531800000, ..., 1703979900000,\n",
      "       1703980200000, 1703980500000]), candle_close_datetimes=None, candle_close_timestamps=None, candle_durations_seconds=array([300, 300, 300, ..., 300, 300, 300]), candle_open_prices=array([16537.5, 16529.2, 16521.4, ..., 42216.6, 42239.9, 42243.8]), candle_high_prices=array([16538. , 16533.6, 16524.4, ..., 42240. , 42256.7, 42243.9]), candle_low_prices=array([16523. , 16519. , 16517.4, ..., 42214.3, 42225.8, 42160.7]), candle_close_prices=array([16529.2, 16521.5, 16517.4, ..., 42239.9, 42243.8, 42174.2]), candle_usdt_volumes=array([139506.448,  53034.015,  58471.596, ...,  88281.391,  98850.492,\n",
      "       279614.946]), candle_asset_volumes=array([8.44, 3.21, 3.54, ..., 2.09, 2.34, 6.63]), candle_trade_counts=None, candle_deltas=None, candle_delta_percents=None, candle_buy_volumes=None, candle_buy_counts=None, candle_sell_volumes=None, candle_sell_counts=None, candle_cvds=None, candle_pocs=None, candle_high_lows=None, prices_tuple=None, prices_buy_vol_tuple=None, prices_buy_count_tuple=None, prices_sell_vol_tuple=None, prices_sell_count_tuple=None, prices_delta_tuple=None, prices_delta_percent_tuple=None, prices_volume_tuple=None, prices_trade_count_tuple=None)\n"
     ]
    }
   ],
   "source": [
    "type(candles)\n",
    "print(candles)"
   ]
  },
  {
   "cell_type": "markdown",
   "metadata": {},
   "source": [
    "# Checking Paths"
   ]
  },
  {
   "cell_type": "code",
   "execution_count": 27,
   "metadata": {},
   "outputs": [],
   "source": [
    "import sys\n",
    "from pathlib import Path\n",
    "\n",
    "sys.path.append(str(Path('Users/evan/Documents/Algo Trading/vnt').resolve().parent.parent))"
   ]
  },
  {
   "cell_type": "code",
   "execution_count": 28,
   "metadata": {},
   "outputs": [],
   "source": [
    "from backtesters.bt_multi_bt import run_df_backtest\n",
    "from optimizers.walk_forward import walk_forward_optimization\n",
    "from core.enums import BacktestSettings, DynamicOrderSettings"
   ]
  },
  {
   "cell_type": "code",
   "execution_count": 6,
   "metadata": {},
   "outputs": [
    {
     "data": {
      "text/plain": [
       "42243.8"
      ]
     },
     "execution_count": 6,
     "metadata": {},
     "output_type": "execute_result"
    }
   ],
   "source": [
    "candles.candle_open_prices[-1]"
   ]
  },
  {
   "cell_type": "code",
   "execution_count": null,
   "metadata": {},
   "outputs": [],
   "source": []
  }
 ],
 "metadata": {
  "kernelspec": {
   "display_name": ".venv",
   "language": "python",
   "name": "python3"
  },
  "language_info": {
   "codemirror_mode": {
    "name": "ipython",
    "version": 3
   },
   "file_extension": ".py",
   "mimetype": "text/x-python",
   "name": "python",
   "nbconvert_exporter": "python",
   "pygments_lexer": "ipython3",
   "version": "3.12.4"
  }
 },
 "nbformat": 4,
 "nbformat_minor": 2
}
